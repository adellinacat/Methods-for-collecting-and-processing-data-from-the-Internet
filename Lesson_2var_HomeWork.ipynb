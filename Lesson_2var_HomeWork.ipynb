{
 "cells": [
  {
   "cell_type": "markdown",
   "id": "5d8f4920",
   "metadata": {},
   "source": [
    "## Lesson 02\n",
    "#### Урок 2. Парсинг данных. HTML, DOM, XPath\n",
    "\n",
    "Написать приложение или функцию,  собирает основные новости с сайта на выбор lenta.ru, yandex.ru. Для парсинга использовать сервис XPath.\n",
    "\n",
    "Структура словаря данных должна содержать:\n",
    "\n",
    "*название источника,\n",
    "наименование новости,\n",
    "ссылку на новость,\n",
    "дату публикации."
   ]
  },
  {
   "cell_type": "markdown",
   "id": "bf299d1b",
   "metadata": {},
   "source": [
    "!pip install lxml\n",
    "!pip install requests"
   ]
  },
  {
   "cell_type": "code",
   "execution_count": 1,
   "id": "4f873553",
   "metadata": {},
   "outputs": [],
   "source": [
    "from pprint import pprint\n",
    "from lxml import html\n",
    "import requests"
   ]
  },
  {
   "cell_type": "markdown",
   "id": "690f1c47",
   "metadata": {},
   "source": [
    "#### вариант исполнения 1"
   ]
  },
  {
   "cell_type": "code",
   "execution_count": 2,
   "id": "1ea64fcc",
   "metadata": {},
   "outputs": [],
   "source": [
    "url = 'https://lenta.ru/'\n",
    "\n",
    "headers = {\n",
    "    'User-Agent' : 'Mozilla/5.0 (Windows NT 10.0; Win64; x64) AppleWebKit/537.36 (KHTML, like Gecko) Chrome/108.0.0.0 Safari/537.36',\n",
    "}\n",
    "    \n",
    "responce = requests.get(url, headers=headers)"
   ]
  },
  {
   "cell_type": "code",
   "execution_count": 3,
   "id": "206f68ef",
   "metadata": {},
   "outputs": [],
   "source": [
    "#responce.text"
   ]
  },
  {
   "cell_type": "code",
   "execution_count": 4,
   "id": "f338f0d1",
   "metadata": {},
   "outputs": [],
   "source": [
    "dom = html.fromstring(responce.text)"
   ]
  },
  {
   "cell_type": "code",
   "execution_count": 5,
   "id": "1de82f26",
   "metadata": {},
   "outputs": [],
   "source": [
    "name_list = dom.xpath(\"//div[@class='topnews__column']/a[@class='card-mini _topnews']/div/span/text()\")   \n",
    "link_list = dom.xpath(\"//div[@class='topnews__column']/a[@class='card-mini _topnews']/@href\") \n",
    "time_news = dom.xpath(\"//div[@class='topnews__column']/a[@class='card-mini _topnews']/div/div/time/text()\")"
   ]
  },
  {
   "cell_type": "code",
   "execution_count": 6,
   "id": "c437aae4",
   "metadata": {},
   "outputs": [
    {
     "data": {
      "text/plain": [
       "['Крупнейшая авиакомпания Европы отменила половину рейсов из-за сбоя системы',\n",
       " 'Популярный в России сайт заблокировал всех Сергеев',\n",
       " 'В Верховной Раде объяснили визит Зеленского в США',\n",
       " 'В Москве стали меньше продавать квартиры в небоскребах',\n",
       " 'Киллеры получили сроки за убийство криминального авторитета из Саранска',\n",
       " '«Одноклассники» представили масштабное обновление',\n",
       " 'В США назвали ключевое отличие Путина от западных политиков',\n",
       " 'Напавший на полицейских россиянин без одежды объяснил причину своей наготы',\n",
       " 'Сильвестр Сталлоне решил продать дом менее чем через год после покупки',\n",
       " 'Врач подсказал способ помочь оставшимся в одиночестве на Новый год людям',\n",
       " 'В Sony намекнули на выход PlayStation 5 Pro',\n",
       " 'Шестимесячный мальчик отравился во время занятий в московском бассейне']"
      ]
     },
     "execution_count": 6,
     "metadata": {},
     "output_type": "execute_result"
    }
   ],
   "source": [
    "name_list"
   ]
  },
  {
   "cell_type": "code",
   "execution_count": 7,
   "id": "effd1d3b",
   "metadata": {},
   "outputs": [
    {
     "data": {
      "text/plain": [
       "['/news/2022/12/21/british/',\n",
       " '/news/2022/12/21/sergay/',\n",
       " '/news/2022/12/21/reasons_to_visit/',\n",
       " 'https://moslenta.ru/news/city/kvartiry-v-neboskrebakh-21-12-2022.htm/',\n",
       " '/news/2022/12/21/shinfjapp/',\n",
       " '/news/2022/12/21/okok/',\n",
       " '/news/2022/12/21/glavotl/',\n",
       " '/news/2022/12/21/golvid/',\n",
       " '/news/2022/12/21/stallone_home/',\n",
       " '/news/2022/12/21/lonely/',\n",
       " '/news/2022/12/21/ps5pro/',\n",
       " '/news/2022/12/21/basseyn/']"
      ]
     },
     "execution_count": 7,
     "metadata": {},
     "output_type": "execute_result"
    }
   ],
   "source": [
    "link_list"
   ]
  },
  {
   "cell_type": "code",
   "execution_count": 8,
   "id": "181fae0c",
   "metadata": {},
   "outputs": [
    {
     "data": {
      "text/plain": [
       "['20:37',\n",
       " '20:35',\n",
       " '20:34',\n",
       " '20:32',\n",
       " '20:31',\n",
       " '20:28',\n",
       " '20:22',\n",
       " '20:22',\n",
       " '20:19',\n",
       " '20:18',\n",
       " '20:17',\n",
       " '20:15']"
      ]
     },
     "execution_count": 8,
     "metadata": {},
     "output_type": "execute_result"
    }
   ],
   "source": [
    "time_news"
   ]
  },
  {
   "cell_type": "code",
   "execution_count": 9,
   "id": "4a6aa828",
   "metadata": {},
   "outputs": [
    {
     "data": {
      "text/plain": [
       "{'Крупнейшая авиакомпания Европы отменила половину рейсов из-за сбоя системы': {'link': 'https://lenta.ru//news/2022/12/21/british/',\n",
       "  'time': '20:37'},\n",
       " 'Популярный в России сайт заблокировал всех Сергеев': {'link': 'https://lenta.ru//news/2022/12/21/sergay/',\n",
       "  'time': '20:35'},\n",
       " 'В Верховной Раде объяснили визит Зеленского в США': {'link': 'https://lenta.ru//news/2022/12/21/sergay/',\n",
       "  'time': '20:35'},\n",
       " 'В Москве стали меньше продавать квартиры в небоскребах': {'link': 'https://lenta.ru//news/2022/12/21/sergay/',\n",
       "  'time': '20:35'},\n",
       " 'Киллеры получили сроки за убийство криминального авторитета из Саранска': {'link': 'https://lenta.ru//news/2022/12/21/sergay/',\n",
       "  'time': '20:35'},\n",
       " '«Одноклассники» представили масштабное обновление': {'link': 'https://lenta.ru//news/2022/12/21/sergay/',\n",
       "  'time': '20:35'},\n",
       " 'В США назвали ключевое отличие Путина от западных политиков': {'link': 'https://lenta.ru//news/2022/12/21/sergay/',\n",
       "  'time': '20:35'},\n",
       " 'Напавший на полицейских россиянин без одежды объяснил причину своей наготы': {'link': 'https://lenta.ru//news/2022/12/21/sergay/',\n",
       "  'time': '20:35'},\n",
       " 'Сильвестр Сталлоне решил продать дом менее чем через год после покупки': {'link': 'https://lenta.ru//news/2022/12/21/sergay/',\n",
       "  'time': '20:35'},\n",
       " 'Врач подсказал способ помочь оставшимся в одиночестве на Новый год людям': {'link': 'https://lenta.ru//news/2022/12/21/sergay/',\n",
       "  'time': '20:35'},\n",
       " 'В Sony намекнули на выход PlayStation 5 Pro': {'link': 'https://lenta.ru//news/2022/12/21/sergay/',\n",
       "  'time': '20:35'},\n",
       " 'Шестимесячный мальчик отравился во время занятий в московском бассейне': {'link': 'https://lenta.ru//news/2022/12/21/sergay/',\n",
       "  'time': '20:35'}}"
      ]
     },
     "execution_count": 9,
     "metadata": {},
     "output_type": "execute_result"
    }
   ],
   "source": [
    "news_dict = {}\n",
    "linkcounter = 0\n",
    "timecounter = 0\n",
    "for news in name_list:\n",
    "    news_dict[news] = {'link' : url + link_list[linkcounter], 'time' : time_news[timecounter]}\n",
    "    linkcounter =+1\n",
    "    timecounter =+1\n",
    "news_dict"
   ]
  },
  {
   "cell_type": "markdown",
   "id": "a0214e3d",
   "metadata": {},
   "source": [
    "#### вариант исполнения 2"
   ]
  },
  {
   "cell_type": "code",
   "execution_count": 10,
   "id": "d96d42d7",
   "metadata": {},
   "outputs": [
    {
     "name": "stdout",
     "output_type": "stream",
     "text": [
      "Крупнейшая авиакомпания Европы отменила половину рейсов из-за сбоя системы\n",
      "link : https://lenta.ru/news/2022/12/21/british/\n",
      "time : 20:37\n",
      "\n",
      "Популярный в России сайт заблокировал всех Сергеев\n",
      "link : https://lenta.ru/news/2022/12/21/sergay/\n",
      "time : 20:35\n",
      "\n",
      "В Верховной Раде объяснили визит Зеленского в США\n",
      "link : https://lenta.ru/news/2022/12/21/reasons_to_visit/\n",
      "time : 20:34\n",
      "\n",
      "В Москве стали меньше продавать квартиры в небоскребах\n",
      "link : https://lenta.ruhttps://moslenta.ru/news/city/kvartiry-v-neboskrebakh-21-12-2022.htm/\n",
      "time : 20:32\n",
      "\n",
      "Киллеры получили сроки за убийство криминального авторитета из Саранска\n",
      "link : https://lenta.ru/news/2022/12/21/shinfjapp/\n",
      "time : 20:31\n",
      "\n",
      "«Одноклассники» представили масштабное обновление\n",
      "link : https://lenta.ru/news/2022/12/21/okok/\n",
      "time : 20:28\n",
      "\n",
      "В США назвали ключевое отличие Путина от западных политиков\n",
      "link : https://lenta.ru/news/2022/12/21/glavotl/\n",
      "time : 20:22\n",
      "\n",
      "Напавший на полицейских россиянин без одежды объяснил причину своей наготы\n",
      "link : https://lenta.ru/news/2022/12/21/golvid/\n",
      "time : 20:22\n",
      "\n",
      "Сильвестр Сталлоне решил продать дом менее чем через год после покупки\n",
      "link : https://lenta.ru/news/2022/12/21/stallone_home/\n",
      "time : 20:19\n",
      "\n",
      "Врач подсказал способ помочь оставшимся в одиночестве на Новый год людям\n",
      "link : https://lenta.ru/news/2022/12/21/lonely/\n",
      "time : 20:18\n",
      "\n",
      "В Sony намекнули на выход PlayStation 5 Pro\n",
      "link : https://lenta.ru/news/2022/12/21/ps5pro/\n",
      "time : 20:17\n",
      "\n",
      "Шестимесячный мальчик отравился во время занятий в московском бассейне\n",
      "link : https://lenta.ru/news/2022/12/21/basseyn/\n",
      "time : 20:15\n",
      "\n"
     ]
    }
   ],
   "source": [
    "newslist = dom.xpath(\"//div[@class='topnews__column']/a[@class='card-mini _topnews']\")\n",
    "url = \"https://lenta.ru\"\n",
    "i=0\n",
    "newsdict = {}\n",
    "for elements in newslist:\n",
    "    nname = elements.xpath(\"//div/span/text()\")[i]\n",
    "    nlink = url + elements.xpath(\"//a[@class='card-mini _topnews']/@href\")[i]\n",
    "    ntime = elements.xpath(\"//div/div/time/text()\")[i]\n",
    "    newsdict[nname] = {'link' : nlink, 'time' : ntime}\n",
    "    i += 1\n",
    "\n",
    "for x in newsdict:\n",
    "    print (x)\n",
    "    for z in newsdict[x]:\n",
    "        print (z, ':', newsdict[x][z])\n",
    "    print ()"
   ]
  }
 ],
 "metadata": {
  "kernelspec": {
   "display_name": "Python 3 (ipykernel)",
   "language": "python",
   "name": "python3"
  },
  "language_info": {
   "codemirror_mode": {
    "name": "ipython",
    "version": 3
   },
   "file_extension": ".py",
   "mimetype": "text/x-python",
   "name": "python",
   "nbconvert_exporter": "python",
   "pygments_lexer": "ipython3",
   "version": "3.9.12"
  }
 },
 "nbformat": 4,
 "nbformat_minor": 5
}
